{
 "cells": [
  {
   "cell_type": "markdown",
   "metadata": {},
   "source": [
    "<div class=\"alert alert-info\"><b>Exercice 1 : </b>soit la classe Carte correspondant à un jeu de 32 ou 52 cartes </div>"
   ]
  },
  {
   "cell_type": "code",
   "execution_count": 1,
   "metadata": {},
   "outputs": [],
   "source": [
    "class Carte: # Définition de la classe\n",
    "    \"Une carte d'un jeu de 32 ou 52 cartes\"\n",
    "    def __init__(self,valeur,couleur):\n",
    "        self.valeur=valeur # 1er attribut {de 2 à 14}\n",
    "        self.couleur=couleur # {'pique', 'carreau', 'coeur', 'trefle'}\n",
    "    \n",
    "    def getAttributs(self): # méthode 2 : accesseur\n",
    "        return (self.valeur,self.couleur)\n",
    "    \n",
    "    def getValeur(self): # méthode 3 : accesseur\n",
    "        return self.valeur\n",
    "\n",
    "    def getCouleur(self): # méthode 4 : accesseur\n",
    "        return self.couleur\n",
    "    \n",
    "    def setValeur(self,v): # mutateur avec contrôle\n",
    "        if 2<=v<=14:\n",
    "            self.valeur=v\n",
    "            return True\n",
    "        else:\n",
    "            return False\n",
    "    def setCouleur(self,c):\n",
    "        if c in (\"pique\", \"carreau\", \"coeur\", \"trefle\"):\n",
    "            self.couleur=c\n",
    "            return True\n",
    "        else:\n",
    "            return False"
   ]
  },
  {
   "cell_type": "code",
   "execution_count": 2,
   "metadata": {},
   "outputs": [
    {
     "name": "stdout",
     "output_type": "stream",
     "text": [
      "(13, 'coeur')\n",
      "(12, 'coeur')\n"
     ]
    }
   ],
   "source": [
    "c2 = Carte(13,\"coeur\")\n",
    "print(c2.getAttributs())\n",
    "c2.setValeur(12)\n",
    "print(c2.getAttributs())\n"
   ]
  },
  {
   "cell_type": "markdown",
   "metadata": {},
   "source": [
    "<div class=\"alert alert-info\">\n",
    "    \n",
    "1. Créer le mutateur de l’attribut couleur sous la forme __setCouleur(self,c)__.  \n",
    "2. Créer une carte c2, un Roi de coeur puis modifier sa valeur en la passant à une Dame.  \n",
    "3. Modifier la couleur de la carte c2 en la passant à pique .  \n",
    "4. Modifier la carte c2 en la passant à 8 de carreau.  \n"
   ]
  },
  {
   "cell_type": "code",
   "execution_count": 3,
   "metadata": {},
   "outputs": [],
   "source": [
    "class JeuDeCartes:\n",
    "    def __init__(self,nombreCarte):\n",
    "        # Tous les attributs ne sont peut être pas représentés\n",
    "        self.nombreCarte=nombreCarte\n",
    "        self.paquetCarte=[]\n",
    "        self.creerPaquet()\n",
    "        \n",
    "    # Accesseur de l'attribut self.nombreCarte\n",
    "    def getNombreCartes(self):\n",
    "        return self.nombreCarte()\n",
    "\n",
    "    # Accesseur de self.paquetCarte\n",
    "    def getPaquet(self):\n",
    "        return self.paquetCarte()\n",
    "\n",
    "    # Méthode de création du paquet de cartes\n",
    "    # on remplit la liste self.paquetCarte\n",
    "    def creerPaquet(self):\n",
    "        if self.nombreCarte == 32:\n",
    "            for couleur in (\"pique\", \"carreau\", \"coeur\", \"trefle\"):\n",
    "                for valeur in range(7, 15):\n",
    "                    carte = Carte(valeur, couleur)\n",
    "                    print(carte.getAttributs())\n",
    "        return True\n",
    "    \n",
    "\n",
    "    # Méthode de distribution d'une carte à la fois\n",
    "    # retourne une instance de Carte\n",
    "    def distribuerUneCarte(self):\n",
    "        ...\n",
    "\n",
    "    #méthode pour mélanger self.paquetCarte\n",
    "    def melanger(self):\n",
    "        ...\n",
    "\n",
    "    #méthode pour afficher le contenu du paquet\n",
    "    def AfficherPaquet (self):\n",
    "        print(len(self.paquetCarte))"
   ]
  },
  {
   "cell_type": "code",
   "execution_count": 50,
   "metadata": {},
   "outputs": [
    {
     "name": "stdout",
     "output_type": "stream",
     "text": [
      "(7, 'pique')\n",
      "(8, 'pique')\n",
      "(9, 'pique')\n",
      "(10, 'pique')\n",
      "(11, 'pique')\n",
      "(12, 'pique')\n",
      "(13, 'pique')\n",
      "(14, 'pique')\n",
      "(7, 'carreau')\n",
      "(8, 'carreau')\n",
      "(9, 'carreau')\n",
      "(10, 'carreau')\n",
      "(11, 'carreau')\n",
      "(12, 'carreau')\n",
      "(13, 'carreau')\n",
      "(14, 'carreau')\n",
      "(7, 'coeur')\n",
      "(8, 'coeur')\n",
      "(9, 'coeur')\n",
      "(10, 'coeur')\n",
      "(11, 'coeur')\n",
      "(12, 'coeur')\n",
      "(13, 'coeur')\n",
      "(14, 'coeur')\n",
      "(7, 'trefle')\n",
      "(8, 'trefle')\n",
      "(9, 'trefle')\n",
      "(10, 'trefle')\n",
      "(11, 'trefle')\n",
      "(12, 'trefle')\n",
      "(13, 'trefle')\n",
      "(14, 'trefle')\n"
     ]
    }
   ],
   "source": [
    "jdc = JeuDeCartes(32)"
   ]
  },
  {
   "cell_type": "code",
   "execution_count": 4,
   "metadata": {},
   "outputs": [
    {
     "ename": "NameError",
     "evalue": "name 'jdc' is not defined",
     "output_type": "error",
     "traceback": [
      "\u001b[0;31m---------------------------------------------------------------------------\u001b[0m",
      "\u001b[0;31mNameError\u001b[0m                                 Traceback (most recent call last)",
      "Cell \u001b[0;32mIn[4], line 1\u001b[0m\n\u001b[0;32m----> 1\u001b[0m \u001b[43mjdc\u001b[49m\u001b[38;5;241m.\u001b[39mAfficherPaquet()\n",
      "\u001b[0;31mNameError\u001b[0m: name 'jdc' is not defined"
     ]
    }
   ],
   "source": [
    "jdc.AfficherPaquet()"
   ]
  },
  {
   "cell_type": "markdown",
   "metadata": {},
   "source": [
    "<div class=\"alert alert-info\">\n",
    "    \n",
    "On dispose de la classe Carte créé précédemment et d'une nouvelle classe : **JeuDeCartes**.\n",
    "    \n",
    "Cette classe a (entre autre) pour attributs :  \n",
    " *  32 ou 52 instances (objets) de la classe Carte. Ces instances sont toutes différentes en valeur et en couleur : on ne veut pas de doublon.\n",
    " *  le nombre de cartes que le jeu contient, soit 32, soit 52\n",
    "    \n",
    "La classe JeuDeCartes va donc contenir des objets créés à partir de la classe Carte"
   ]
  },
  {
   "cell_type": "markdown",
   "metadata": {},
   "source": [
    "<div class=\"alert alert-info\">\n",
    "\n",
    " 1. Quel est le type de **self.paquetCarte** ?\n",
    " 2. Dans **quelle méthode** instancie t’on la classe **Carte** ? **Compléter alors cette méthode** pour obtenir un jeu de cartes sans doublon du nombre de cartes souhaité.\n",
    " 3. Que peut on **ajouter à la classe JeuDeCartes** pour empêcher de donner une valeur différente de 32 ou 52 à l’attribut **self.nombreCarte** ?\n",
    " 4. Pourquoi est-ce important de faire cette vérification?\n",
    " 5. Que pourrait on faire si la valeur passée dans le constructeur n’est pas correcte?\n",
    " 6. Pourquoi la méthode **creerPaquet()** n’a pas besoin de paramètre autre que self ?\n",
    " 7. Quand utilise t’on la méthode **creerPaquet()** ?\n",
    " 8. **Compléter  les codes des méthodes** getNombreCartes(), getPaquet(), distribuerUneCarte() (utiliser un tirage aléatoire avec le module randrange ou randint) et melanger() (utiliser random.shuffle(liste) qui mélange les éléments de la liste)\n",
    " 9. **Compléter la méthode AfficherPaquet()** qui permet d'afficher toutes les cartes du paquet.\n",
    " 10. **Instancier la classe JeuDeCarte et utiliser successivement les méthodes melanger() et distribuerUneCarte() et AfficherPaquet**\n"
   ]
  },
  {
   "cell_type": "markdown",
   "metadata": {},
   "source": [
    "<div class=\"alert alert-info\"><b>Exercice 2</b><br/>\n",
    "    \n",
    " 1.\tEcrire une classe **Rectangle**, permettant de construire un rectangle doté d'attributs longueur et largeur.\n",
    " 2.\tCréer une méthode **Perimetre()** permettant de calculer le périmètre du rectangle et une méthode **Surface()** permettant de calculer la surface du rectangle\n",
    " 3.\tCréer des **accesseurs** pour chaque attribut.\n",
    " 4.\tCréer des **mutateurs** pour chaque attribut.\n",
    " 5.\tCréer une classe fille **Parallelepipede** héritant de la classe Rectangle et dotée en plus d'un attribut **hauteur** et d'une autre méthode **Volume()** permettant de calculer le volume du Parallélépipède."
   ]
  },
  {
   "cell_type": "code",
   "execution_count": null,
   "metadata": {},
   "outputs": [],
   "source": [
    "class Rectangle:\n",
    "    def __init__(self,largeur,longueur):\n",
    "        self.largeur=largeur # Largeur du réctangle\n",
    "        self.longueur=longueur # Longueur d'un réctangle\n",
    "    \n",
    "    def getLongueur(self): # accesseur\n",
    "        return (self.longueur)\n",
    "    \n",
    "    def getLargeur(self): # accesseur\n",
    "        return self.largeur\n",
    "    \n",
    "    def setLongueur(self,L): # mutateur\n",
    "        self.longueur=L\n",
    "\n",
    "    def setLargeur(self,l): # mutateur\n",
    "        self.largeur=l\n",
    "\n",
    "    def perimetre(self):\n",
    "        return (self.longueur + self.largeur) * 2\n",
    "    \n",
    "    def surface(self):\n",
    "        return (self.largeur * self.largeur)"
   ]
  },
  {
   "cell_type": "code",
   "execution_count": null,
   "metadata": {},
   "outputs": [
    {
     "name": "stdout",
     "output_type": "stream",
     "text": [
      "60\n",
      "100\n"
     ]
    }
   ],
   "source": [
    "r = Rectangle(10, 20)\n",
    "print(r.perimetre())\n",
    "print(r.surface())"
   ]
  },
  {
   "cell_type": "markdown",
   "metadata": {},
   "source": [
    "<div class=\"alert alert-info\"><b>Exercice 3</b><br/>\n",
    "\n",
    "Coder une classe myString permettant de doter les chaines de caractères des méthodes append() et pop() faisant les mêmes opérations que celles des listes.  \n",
    "Exemple si on crée une chaine via l’instanciation s1 = myString(“Hello”) et on lui applique les méthodes :  \n",
    "print(s1.append(\" world !\")) # affiche ‘Hello world !'  \n",
    "print(s1.pop(1))  # affiche 'world' \n",
    "    \n",
    "Rq. Utilisez la méthode split() qui permet de séparer les mots d’une chaine de caractère et les place dans une liste (par défaut la séparation s’effectue à chaque caractère d’espacement).\n"
   ]
  },
  {
   "cell_type": "code",
   "execution_count": null,
   "metadata": {},
   "outputs": [
    {
     "name": "stdout",
     "output_type": "stream",
     "text": [
      "Hello world !\n",
      "Hllo world !\n"
     ]
    }
   ],
   "source": [
    "class myString:\n",
    "    def __init__(self, s):\n",
    "        self.s = s\n",
    "\n",
    "    def append(self, x):\n",
    "        self.s += x\n",
    "        return self.s\n",
    "\n",
    "    def pop(self, i):\n",
    "        s1 = self.s[:i]\n",
    "        s2 = self.s[i+1:]\n",
    "        return s1 + s2\n",
    "\n",
    "# Exemple d'utilisation\n",
    "s1 = myString(\"Hello\")\n",
    "print(s1.append(\" world !\"))  # Affiche 'Hello world !'\n",
    "print(s1.pop(1))  # Affiche 'world'"
   ]
  },
  {
   "cell_type": "markdown",
   "metadata": {},
   "source": [
    "<div class=\"alert alert-info\"><b>Exercice 4</b><br/>\n",
    "\n",
    " 1.\tCréer une classe **Point** qui permet de construire un point d’un plan. Le point est doté de coordonnées x et y qui sont donc des attributs.  \n",
    " 2.\tCréer une méthode permettant **d’afficher les coordonnées** d’un point P. \n",
    "P étant une instance de la classe Point  \n",
    " 3.\tCréer une autre classe : la **classe Droite** permettant de représenter les droites du plan. Ces droites sont assimilables aux équations y = ax + b. Les attributs des objets de la classe Droite sont a et b.  \n",
    " 4.\tDans la classe Droite créer une méthode **appartient** permettant de savoir si un point P appartient ou non à une droite. Cette méthode retournera True ou False.  \n",
    " 5.\tCréer une nouvelle méthode dans la classe Droite : **prendPoint** qui en connaissant l’abscisse d’un point, renvoie les coordonnées (x,y) du point appartenant à cette droite.  \n",
    " 6.\tAjouter à la classe Point une méthode qui **calcule les coordonnées du milieu** situé entre deux points. Cette méthode prend un second point en paramètre.  \n",
    " 7.\tCréer une nouvelle classe **PointCouleur** qui permet de générer des points colorés. La couleur sera générée par un triplet (r,v,b)  \n",
    " 8.\tCréer une méthode permettant **d’afficher les coordonnées** d’un point coloré Pc et sa couleur.  \n"
   ]
  },
  {
   "cell_type": "code",
   "execution_count": null,
   "metadata": {},
   "outputs": [],
   "source": [
    "# votre code ci-dessous\n"
   ]
  }
 ],
 "metadata": {
  "kernelspec": {
   "display_name": "Python 3 (ipykernel)",
   "language": "python",
   "name": "python3"
  },
  "language_info": {
   "codemirror_mode": {
    "name": "ipython",
    "version": 3
   },
   "file_extension": ".py",
   "mimetype": "text/x-python",
   "name": "python",
   "nbconvert_exporter": "python",
   "pygments_lexer": "ipython3",
   "version": "3.10.13"
  }
 },
 "nbformat": 4,
 "nbformat_minor": 4
}
