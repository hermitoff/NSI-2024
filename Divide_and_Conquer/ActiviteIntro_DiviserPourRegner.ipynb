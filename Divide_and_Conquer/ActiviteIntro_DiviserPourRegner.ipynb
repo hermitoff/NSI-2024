{
 "cells": [
  {
   "cell_type": "markdown",
   "metadata": {},
   "source": [
    "<h1 style=\"font-size: 30px; text-align: center\">Diviser pour régner - Activités d'introduction</h1>\n",
    "\n",
    "---"
   ]
  },
  {
   "cell_type": "markdown",
   "metadata": {},
   "source": [
    "# Recherche dichotomique\n",
    "\n",
    "## Principe (rappels de Première)\n",
    "\n",
    "On rappelle que la recherche dichotomique permet de trouver efficacement une valeur `v` dans un tableau **trié** `T`.\n",
    "\n",
    "L'idée est de prendre l'élément central et de le comparer à la valeur `v`. Si cet élément central est :\n",
    "- égal à `v` alors on a trouvé `v` et c'est terminé ;\n",
    "- strictement supérieur à `v` alors on garde la première moitié et on recommence en prenant son élément central ;\n",
    "- strictement inférieur à `v` alors on garde la deuxième moitié et on recommence en prenant son élément central.\n",
    "\n",
    "Ce processus s'effectue jusqu'à rencontrer la valeur `v` ou après avoir parcouru tous les éléments du tableau sans trouver `v`. "
   ]
  },
  {
   "cell_type": "markdown",
   "metadata": {},
   "source": [
    "### Exercice 1\n",
    "\n",
    "On recherche la valeur 9 dans le tableau `T` suivant. Appliquez (à la main) l'algorithme de recherche dichotomique.\n",
    "\n",
    "```python\n",
    "T = [1, 2, 2, 5, 6, 6, 7, 9, 9, 10, 10, 13, 13, 15]\n",
    "```"
   ]
  },
  {
   "cell_type": "markdown",
   "metadata": {},
   "source": [
    "### Vers l'algorithme\n",
    "\n",
    "L'idée est d'utiliser deux variables `g` et `d` égale aux indices extrêmes de la zone de recherche. Au départ, on commence la recherche avec le tableau tout entier, on a donc `g = 0` et `d = len(T) - 1`.\n",
    "\n",
    "Après un certain nombre d'étapes, on se trouve dans la situation :\n",
    "\n",
    "<img class=\"centre image-responsive\" alt=\"illustration\" src=\"data/dicho1.png\" width=\"500\">\n",
    "\n",
    "Il faut répéter le processus jusqu'à ce que la zone de recherche soit vide ou que l'on a trouvé `v`."
   ]
  },
  {
   "cell_type": "markdown",
   "metadata": {},
   "source": [
    "### Exercice 2\n",
    "\n",
    "En pratique, on souhaite que notre algorithme renvoie une position de `v` dans le tableau `T`, supposé trié, et `None` si `v` ne s'y trouve pas. Ecrivez une fonction `recherche_dichotomique(T, v)` qui effectue cette tâche."
   ]
  },
  {
   "cell_type": "code",
   "execution_count": 1,
   "metadata": {},
   "outputs": [],
   "source": [
    "def recherche_dichotomique(T, v):\n",
    "    \"\"\"Renvoie une position de v dans le tableau T, supposé trié,\n",
    "    et None si v ne s'y trouve pas.\"\"\"\n",
    "    gauche, droite = 0, len(T) - 1\n",
    "    \n",
    "    while gauche <= droite:\n",
    "        milieu = (gauche + droite) // 2\n",
    "        if T[milieu] == v:\n",
    "            return milieu\n",
    "        elif T[milieu] < v:\n",
    "            gauche = milieu + 1\n",
    "        else:\n",
    "            droite = milieu - 1\n",
    "    \n",
    "    return None\n"
   ]
  },
  {
   "cell_type": "markdown",
   "metadata": {},
   "source": [
    "## Version récursive\n",
    "\n",
    ">**Rappel** : La récursivité est un principe algorithmique de description de la solution d’un problème dont le principe consiste à ramener la résolution du problème à la résolution du même problème mais sur un objet plus petit.\n",
    "\n",
    "Le principe de l'algorithme de recherche dichotomique est fondamentalement récursif puisque la recherche sur dans le tableau complet se ramène à la recherche sur un tableau de taille plus petite à chaque étape. On peut donc écrire facilement une version récursive de la recherche dichotomique.\n",
    "\n",
    "Plus précisément on veut écrire une fonction récursive `recherche(T, v, g, d)` qui renvoie une position de `v` dans `T[g..d]`, ou `None` si `v` ne s'y trouve pas."
   ]
  },
  {
   "cell_type": "markdown",
   "metadata": {},
   "source": [
    "### Exercice 3\n",
    "\n",
    "**Question 1** : Quels sont les deux cas de base mettant fin aux appels récursifs ? Quelle valeur la fonction doit-elle renvoyer dans chaque cas ?\n",
    "\n",
    "**Question 2** : On note `m = (g + d) // 2` l'élément central.\n",
    "\n",
    "* Quel appel récursif faut-il faire si l'élément central est strictement supérieur à `v` ? \n",
    "* Quel appel récursif faut-il faire si l'élément central est strictement inférieur à `v` ?\n",
    "\n",
    "**Question 3** : On note toujours `m = (g + d) // 2` l'élément central. Complétez la définition suivante.\n",
    "\n",
    "$$\\text{recherche(T, v, g, d)} = \\left\\{\n",
    "\\begin{array}{l}\n",
    "  None \\hspace{2.5cm} \\textrm{ si } \\ldots \\\\\n",
    "  \\ldots \\hspace{3cm} \\textrm{ si } \\ldots \\\\\n",
    "  \\ldots \\hspace{3cm} \\textrm{ si } \\ldots \\\\\n",
    "  \\ldots \\hspace{3cm} \\textrm{ si } \\ldots\n",
    "\\end{array}\n",
    "\\right.$$\n",
    "\n",
    "**Question 4** : Ecrivez la fonction récursive `recherche(T, v, g, d)` qui renvoie une position de `v` dans `T[g..d]`, ou `None` si `v` ne s'y trouve pas."
   ]
  },
  {
   "cell_type": "markdown",
   "metadata": {},
   "source": [
    "# Questions\n",
    "\n",
    "#### **Question 1 : Cas de base mettant fin aux appels récursifs**\n",
    "Dans une recherche dichotomique, les cas de base sont ceux où la recherche ne peut pas se poursuivre. Voici les deux cas de base pour arrêter les appels récursifs :\n",
    "\n",
    "1. **Cas où l'intervalle est vide** : Si `g > d`, cela signifie que l'intervalle `[g..d]` ne contient plus d'éléments, donc `v` n'est pas dans le tableau. Dans ce cas, la fonction doit retourner `None`.\n",
    "2. **Cas où on trouve `v`** : Si l'élément central `T[m]` est égal à `v`, alors la fonction retourne `m`, l'indice où `v` est trouvé dans le tableau.\n",
    "\n",
    "#### **Question 2 : Appels récursifs en fonction de la comparaison de `v` avec l'élément central `T[m]`**\n",
    "On note `m = (g + d) // 2` l'élément central de l'intervalle `[g..d]`. Selon la valeur de `T[m]` par rapport à `v`, on a deux situations :\n",
    "\n",
    "1. **Si `T[m]` est strictement supérieur à `v`** : Cela signifie que `v` (si présent) doit être dans la partie gauche du tableau, c'est-à-dire dans l'intervalle `[g..m-1]`. L'appel récursif dans ce cas sera `recherche(T, v, g, m - 1)`.\n",
    "   \n",
    "2. **Si `T[m]` est strictement inférieur à `v`** : Cela signifie que `v` doit être dans la partie droite du tableau, c'est-à-dire dans l'intervalle `[m+1..d]`. L'appel récursif dans ce cas sera `recherche(T, v, m + 1, d)`.\n",
    "\n",
    "#### **Question 3 : Définition de `recherche(T, v, g, d)`**\n",
    "\n",
    "(J'arrive pas a compléter le schémas)\n",
    "```\n",
    "recherche(T, v, g, d) =\n",
    "None si g > d\n",
    "m si T[m] = v\n",
    "recherche(T, v, g, m - 1) si T[m] > v\n",
    "recherche(T, v, m + 1, d) si T[m] < v\n",
    "```\n"
   ]
  },
  {
   "cell_type": "code",
   "execution_count": 2,
   "metadata": {},
   "outputs": [],
   "source": [
    "def recherche(T, v, g, d):\n",
    "    \"\"\"Renvoie une position de v dans le tableau T[g..d], ou None si v ne s'y trouve pas.\"\"\"\n",
    "    if g > d:\n",
    "        return None\n",
    "    m = (g + d) // 2\n",
    "    if T[m] == v:\n",
    "        return m\n",
    "    elif T[m] > v:\n",
    "        return recherche(T, v, g, m - 1)\n",
    "    else:\n",
    "        return recherche(T, v, m + 1, d)\n"
   ]
  },
  {
   "cell_type": "markdown",
   "metadata": {},
   "source": [
    "On peut maintenant écrire la fonction `recherche_dichotomique(T, v)` qui est chargée de lancer le premier appel à la fonction récursive `recherche`.\n",
    "\n",
    "**Question 5** : Complétez la fonction `recherche_dichotomique(T, v)`."
   ]
  },
  {
   "cell_type": "code",
   "execution_count": 3,
   "metadata": {},
   "outputs": [],
   "source": [
    "def recherche_dichotomique(T, v):\n",
    "    \"\"\"Renvoie une position de v dans le tableau T, ou None si v ne s'y trouve pas\"\"\"\n",
    "    return recherche(T, v, 0, len(T) - 1)"
   ]
  },
  {
   "cell_type": "markdown",
   "metadata": {},
   "source": [
    "## Bilan\n",
    "\n",
    "La version récursive de l'algorithme de recherche dichotomique est une application d'un principe appelé **diviser pour régner** qui consiste à décomposer un problème en sous-problèmes plus petits, à résoudre ces sous-problèmes puis à combiner leurs résultats pour en déduire le résultat du problème initial. \n",
    "\n",
    "---"
   ]
  },
  {
   "cell_type": "markdown",
   "metadata": {},
   "source": [
    "# Algorithmes de tri\n",
    "\n",
    "L'objectif ici est de rappeler les deux algorithmes de tri vus en classe de Première qui permettent de trier par ordre croissant un tableau `T` non vide.\n",
    "\n",
    "## Tri par sélection (rappels)\n",
    "\n",
    "Voici l’algorithme du *tri par sélection* écrit en français :\n",
    "- Rechercher le plus petit élément du tableau, et l'échanger avec l'élément d'indice 0 ;\n",
    "- Rechercher le second plus petit élément du tableau, et l'échanger avec l'élément d'indice 1 ;\n",
    "- Continuer de cette façon jusqu'à ce que le tableau soit entièrement trié\n",
    "\n",
    "Le tri par sélection parcourt ainsi le tableau de la gauche vers la droite, en maintenant sur la gauche une partie déjà triée et à sa place définitive."
   ]
  },
  {
   "cell_type": "markdown",
   "metadata": {},
   "source": [
    "### Exercice 4\n",
    "\n",
    "**Question 1** : Appliquez l'algorithme de tri par sélection sur le tableau suivant. Vous écrirez l'état du tableau à l'issue de chaque itération.\n",
    "\n",
    "```python\n",
    "T = [8, 3, 11, 7, 9, 2]\n",
    "```\n",
    "\n",
    "**Question 2** : Combien d'itérations sont nécessaires pour trier par sélection un tableau de taille $n$ ?\n",
    "\n",
    "**Question 3** : Combien de comparaisons sont nécessaires pour trier par sélection un tableau de taille $n$ dans le pire des cas ? dans le meilleur des cas ?"
   ]
  },
  {
   "cell_type": "markdown",
   "metadata": {},
   "source": [
    "#### Question 1 : Application du tri par sélection sur le tableau T = [8, 3, 11, 7, 9, 2]\n",
    "```plain\n",
    "Itération 1 :\n",
    "\n",
    "Tableau : [8, 3, 11, 7, 9, 2]\n",
    "Échange 2 (le plus petit) avec 8.\n",
    "État : [2, 3, 11, 7, 9, 8]\n",
    "Itération 2 :\n",
    "\n",
    "Tableau : [2, 3, 11, 7, 9, 8]\n",
    "3 est déjà à sa place.\n",
    "État : [2, 3, 11, 7, 9, 8]\n",
    "Itération 3 :\n",
    "\n",
    "Tableau : [2, 3, 11, 7, 9, 8]\n",
    "Échange 7 (le plus petit) avec 11.\n",
    "État : [2, 3, 7, 11, 9, 8]\n",
    "Itération 4 :\n",
    "\n",
    "Tableau : [2, 3, 7, 11, 9, 8]\n",
    "Échange 8 (le plus petit) avec 11.\n",
    "État : [2, 3, 7, 8, 9, 11]\n",
    "Itération 5 :\n",
    "\n",
    "Tableau : [2, 3, 7, 8, 9, 11]\n",
    "9 est déjà à sa place.\n",
    "État : [2, 3, 7, 8, 9, 11]\n",
    "Itération 6 :\n",
    "\n",
    "Tableau : [2, 3, 7, 8, 9, 11]\n",
    "11 est déjà à sa place.\n",
    "État final : [2, 3, 7, 8, 9, 11]\n",
    "État final du tableau : T = [2, 3, 7, 8, 9, 11]\n",
    "```\n",
    "\n",
    "#### Question 2 : Nombre d'itérations pour un tableau de taille $( n )$\n",
    "\n",
    "Pour un tableau de taille $(n)$, le tri par sélection nécessite $( n - 1 )$ itérations. À chaque itération $( i )$, l'algorithme trouve le $( i )$-ème plus petit élément et le place à la position $( i )$. Une fois arrivé au dernier élément, il est déjà trié, donc l'algorithme s'arrête.\n",
    "\n",
    "**Réponse** : \\( n - 1 \\) itérations pour un tableau de taille \\( n \\).\n",
    "\n",
    "#### Question 3 : Nombre de comparaisons dans le pire et le meilleur des cas\n",
    "\n",
    "..."
   ]
  },
  {
   "cell_type": "markdown",
   "metadata": {},
   "source": [
    "### Exercice 5\n",
    "\n",
    "**Question 1** : Ecrivez une fonction `echange(T, i, j)` qui échange les éléments d'indices `T[i]` et `T[j]` dans le tableau `T`."
   ]
  },
  {
   "cell_type": "code",
   "execution_count": 4,
   "metadata": {},
   "outputs": [
    {
     "name": "stdout",
     "output_type": "stream",
     "text": [
      "[3, 8, 11, 7, 9, 2]\n"
     ]
    }
   ],
   "source": [
    "# à compléter\n",
    "\n",
    "def echange(T, i, j):\n",
    "    \"\"\"Échange les éléments d'indices i et j dans le tableau T.\"\"\"\n",
    "    T[i], T[j] = T[j], T[i]\n",
    "\n",
    "T = [8, 3, 11, 7, 9, 2]\n",
    "echange(T, 0, 1)\n",
    "print(T)\n"
   ]
  },
  {
   "cell_type": "code",
   "execution_count": null,
   "metadata": {},
   "outputs": [],
   "source": []
  },
  {
   "cell_type": "markdown",
   "metadata": {},
   "source": [
    "**Question 2** : Ecrivez une fonction `tri_par_selection(T)` qui trie par sélection le tableau `T` dans l'ordre croissant."
   ]
  },
  {
   "cell_type": "code",
   "execution_count": 6,
   "metadata": {},
   "outputs": [
    {
     "name": "stdout",
     "output_type": "stream",
     "text": [
      "[2, 3, 7, 8, 9, 11]\n"
     ]
    }
   ],
   "source": [
    "# à compléter\n",
    "def tri_par_selection(T):\n",
    "    \"\"\"Trie le tableau T par l'algorithme de tri par sélection.\"\"\"\n",
    "    n = len(T)\n",
    "    for i in range(n - 1):\n",
    "        # On suppose que le plus petit élément est à la position i\n",
    "        min_index = i\n",
    "        for j in range(i + 1, n):\n",
    "            # Trouver l'indice du plus petit élément\n",
    "            if T[j] < T[min_index]:\n",
    "                min_index = j\n",
    "        # Échanger l'élément trouvé avec l'élément à la position i\n",
    "        echange(T, i, min_index)\n",
    "\n",
    "T = [8, 3, 11, 7, 9, 2]\n",
    "tri_par_selection(T)\n",
    "print(T)"
   ]
  },
  {
   "cell_type": "markdown",
   "metadata": {},
   "source": [
    "## Tri par insertion (rappels)\n",
    "\n",
    "Voici l’algorithme du **tri par insertion** écrit en français :\n",
    "\n",
    "- Prendre le deuxième élément du tableau et l'insérer à sa place parmi les éléments qui le précède\n",
    "- Prendre le troisième élément du tableau et l'insérer à sa place parmi les éléments qui le précède\n",
    "- Continuer de cette façon jusqu'à ce que le tableau soit entièrement trié.\n",
    "\n",
    "Le tri par sélection parcourt donc également le tableau de la gauche vers la droite, en maintenant une partie déjà triée sur la gauche. Au lieu de chercher la plus petite valeur dans la partie de droite, le tri par insertion va insérer la première valeur non encore triée au bon endroit dans la partie de gauche déjà triée."
   ]
  },
  {
   "cell_type": "markdown",
   "metadata": {},
   "source": [
    "### Exercice 6\n",
    "\n",
    "**Question 1** : Appliquez l'algorithme de tri par insertion sur le tableau suivant. Vous écrirez l'état du tableau à l'issue de chaque itération.\n",
    "\n",
    "```python\n",
    "T = [8, 3, 11, 7, 9, 2]\n",
    "```\n",
    "\n",
    "**Question 2** : Combien d'itérations sont nécessaires pour trier par insertion un tableau de taille $n$ ?\n",
    "\n",
    "**Question 3** : Combien de comparaisons et d'échanges sont nécessaires pour trier par insertion un tableau de taille $n$ dans le pire des cas ? dans le meilleur des cas ?"
   ]
  },
  {
   "cell_type": "markdown",
   "metadata": {},
   "source": [
    "#### Question 2 : Nombre d'itérations pour un tableau de taille $( n )$\n",
    "\n",
    "Pour trier un tableau de taille $( n )$ par insertion, il faut $( n - 1 )$ itérations, car on commence à partir du deuxième élément et on insère chaque élément non trié dans la partie triée.\n",
    "\n",
    "**Réponse** : $( n - 1 )$ itérations pour un tableau de taille $( n )$.\n",
    "\n",
    "#### Question 3 : Comparaisons et échanges dans le pire et le meilleur des cas\n",
    "\n",
    "- **Pire des cas** : \n",
    "  - Ce scénario se produit lorsque le tableau est trié dans l'ordre décroissant.\n",
    "  - Pour chaque élément à insérer, on compare avec tous les éléments de la partie triée. \n",
    "  - Le nombre total de comparaisons est :\n",
    "    $[\n",
    "    (1 + 2 + \\ldots + (n - 1)) = \\frac{(n - 1)n}{2}\n",
    "    $]\n",
    "  - Le nombre d'échanges dans le pire des cas est également au maximum, car chaque élément doit être déplacé. Donc, le nombre d'échanges est aussi $(\\frac{(n - 1)n}{2})$.\n",
    "\n",
    "- **Meilleur des cas** : \n",
    "  - Ce scénario se produit lorsque le tableau est déjà trié dans l'ordre croissant.\n",
    "  - Dans ce cas, pour chaque élément, il n'y a qu'une seule comparaison pour vérifier qu'il est déjà à sa place.\n",
    "  - Le nombre total de comparaisons est $(n - 1)$ et le nombre d'échanges est $(0)$.\n",
    "\n",
    "**Résumé des réponses** :\n",
    "- **Pire des cas** :\n",
    "  - Comparaisons : $(\\frac{(n - 1)n}{2})$\n",
    "  - Échanges : $(\\frac{(n - 1)n}{2})$\n",
    "  \n",
    "- **Meilleur des cas** :\n",
    "  - Comparaisons : $(n - 1)$\n",
    "  - Échanges : $(0)$"
   ]
  },
  {
   "cell_type": "markdown",
   "metadata": {},
   "source": [
    "### Exercice 7\n",
    "\n",
    "Pour faire \"remonter\" un élément au bon endroit dans la partie déjà triée, on procède par des échanges successifs de deux éléments consécutifs. Par exemple, si l'état du tableau est $T = [2, 3, 5, 7, 8, 4, 1]$ juste avant l'avant-dernière itération, il faut faire \"remonter\" l'élément d'indice `5` (le nombre 4) au bon endroit dans la partie $[2, 3, 5, 7, 8]$. Pour cela, \n",
    "\n",
    "- on stocke `T[5]` dans une variable `x` (qui vaut donc 4)\n",
    "- `T[4] < x` donc on remplace `T[5]` par `T[4]` : on obtient $[2, 3, 5, 7, 8, 8, 1]$ ;\n",
    "- `T[3] < x` donc on remplace `T[4]` par `T[3]` : on obtient $[2, 3, 5, 7, 7, 8, 1]$ ;\n",
    "- `T[2] < x` donc on remplace `T[3]` par `T[2]` : on obtient $[2, 3, 5, 5, 7, 8, 1]$ ;\n",
    "- `T[1] >= x` donc on a terminé : il faut insérer 4 en position 2. Il suffit de remplacer `T[2]` par `x` : on obtient $[2, 3, 4, 5, 7, 8, 1]$.\n",
    "\n",
    "**Question** : Ecrivez une fonction `tri_par_insertion(T)` qui trie par insertion le tableau `T` dans l'odre croissant."
   ]
  },
  {
   "cell_type": "code",
   "execution_count": null,
   "metadata": {},
   "outputs": [
    {
     "name": "stdout",
     "output_type": "stream",
     "text": [
      "[1, 2, 3, 4, 5, 7, 8]\n"
     ]
    }
   ],
   "source": [
    "# à compléter\n",
    "\n",
    "def tri_par_insertion(T):\n",
    "    n = len(T)\n",
    "    for i in range(1, n):\n",
    "        x = T[i]\n",
    "        j = i - 1\n",
    "        while j >= 0 and T[j] > x:\n",
    "            T[j + 1] = T[j]\n",
    "            j -= 1\n",
    "        T[j + 1] = x\n",
    "\n",
    "\n",
    "T = [2, 3, 5, 7, 8, 4, 1]\n",
    "tri_par_insertion(T)\n",
    "print(T)\n"
   ]
  },
  {
   "cell_type": "markdown",
   "metadata": {},
   "source": [
    "## Bilan\n",
    "\n",
    "Les deux algorithmes de tri vus en classe de Première prennent tous les deux un temps *quadratique* : leurs temps d'exécution est proportionnel à $n^2$, où $n$ est la taille du tableau à trier. Nous allons voir cette année un nouvel algorithme de tri, appelé **tri fusion**, qui est basé sur le principe *diviser pour régner* et qui prend un temps plus petit, proportionnel à $n\\log_2{n}$."
   ]
  },
  {
   "cell_type": "markdown",
   "metadata": {},
   "source": [
    "---\n",
    "\n",
    "**Références :**\n",
    "- Equipe pédagogique DIU EIL, Université de Nantes.\n",
    "- Livre *Spécialité Numérique et sciences informatiques : 30 leçons avec exercices corrigés - Première*, éditions Ellipses, T. Balabonski, S. Conchon, J.-C. Filliâtre, K. Nguyen pour l'algorithme de recherche dichotomique : [http://www.nsi-premiere.fr/](http://www.nsi-premiere.fr/).\n",
    "\n",
    "---\n",
    "Germain BECKER, Lycée Mounier, ANGERS \n",
    "\n",
    "![Licence Creative Commons](https://i.creativecommons.org/l/by-nc-sa/4.0/88x31.png)"
   ]
  }
 ],
 "metadata": {
  "kernelspec": {
   "display_name": "Python 3",
   "language": "python",
   "name": "python3"
  },
  "language_info": {
   "codemirror_mode": {
    "name": "ipython",
    "version": 3
   },
   "file_extension": ".py",
   "mimetype": "text/x-python",
   "name": "python",
   "nbconvert_exporter": "python",
   "pygments_lexer": "ipython3",
   "version": "3.12.3"
  }
 },
 "nbformat": 4,
 "nbformat_minor": 2
}
